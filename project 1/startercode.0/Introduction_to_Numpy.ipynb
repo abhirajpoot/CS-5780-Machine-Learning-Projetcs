{
 "cells": [
  {
   "cell_type": "markdown",
   "metadata": {},
   "source": [
    "<h1>Activity 0: Introduction to NumPy</h1>"
   ]
  },
  {
   "cell_type": "markdown",
   "metadata": {},
   "source": [
    "<h2>Introduction</h2>\n",
    "\n",
    "<p>This activity aims to introduce you to Numpy - a package for scientific computing with Python that we will use extensively in this class. This activity is by no means a complete tutorial on NumPy but it should be enough for you to do most of projects and activities in this class. For more information, please see NumPy's <a href=\"https://docs.scipy.org/doc/numpy/user/quickstart.html\">official tutorial</a> and <a href='https://docs.scipy.org/doc/numpy/reference/index.html'>API</a>. To use NumPy, first import the package as what we do in the following cell:</p>"
   ]
  },
  {
   "cell_type": "code",
   "execution_count": 1,
   "metadata": {
    "collapsed": true
   },
   "outputs": [],
   "source": [
    "import numpy as np"
   ]
  },
  {
   "cell_type": "markdown",
   "metadata": {},
   "source": [
    "<h2>Creating Vectors and Matrices</h2>\n",
    "\n",
    "<p> NumPy's main object is a multidimensional array, in other words, a table of the same data type. Let's see an example on how to create an NumPy array:  </p>"
   ]
  },
  {
   "cell_type": "code",
   "execution_count": 6,
   "metadata": {
    "collapsed": false
   },
   "outputs": [
    {
     "data": {
      "text/plain": [
       "array([[1, 2, 3],\n",
       "       [4, 5, 6]])"
      ]
     },
     "execution_count": 6,
     "metadata": {},
     "output_type": "execute_result"
    }
   ],
   "source": [
    "X = np.array([[1,2,3], [4,5,6]])\n",
    "X"
   ]
  },
  {
   "cell_type": "markdown",
   "metadata": {},
   "source": [
    "In the cell above, we created a two dimensional table, a.k.a, a matrix of size $2 \\times 3$. To create an array, what you need to do is to pass in a list of objects into the function [np.array()](https://docs.scipy.org/doc/numpy/reference/generated/numpy.array.html). Now that we have shown you how to create a matrix, you might have wondered how we can represent a vector in NumPy. There are three ways to represent a vector in NumPy. In the cell below we are using the function [.reshape()](https://docs.scipy.org/doc/numpy/reference/generated/numpy.reshape.html) to specify the length of the 2-D array in each dimension."
   ]
  },
  {
   "cell_type": "code",
   "execution_count": 3,
   "metadata": {
    "collapsed": false
   },
   "outputs": [
    {
     "name": "stdout",
     "output_type": "stream",
     "text": [
      "This is a numpy vector:[3 4 5]. It's shape is (3,)\n",
      "This is a column vector (matrix):\n",
      "[[3]\n",
      " [4]\n",
      " [5]]. It's shape is (3, 1)\n",
      "This is a row vector (matrix):[[3 4 5]]. It's shape is (1, 3)\n"
     ]
    }
   ],
   "source": [
    "v1=np.array([3,4,5])\n",
    "print(\"This is a numpy vector:{}. It's shape is {}\".format(v1, v1.shape))\n",
    "v2=v1.reshape((3,1))\n",
    "print(\"This is a column vector (matrix):\\n{}. It's shape is {}\".format(v2, v2.shape))\n",
    "v3=v1.reshape((1,3))\n",
    "print(\"This is a row vector (matrix):{}. It's shape is {}\".format(v3,v3.shape))"
   ]
  },
  {
   "cell_type": "markdown",
   "metadata": {},
   "source": [
    "<p><p>These three representation are usually not compatible. Some operations will still work, but not in the way we expect. </p> We will always prefer the vector notation. You can transform any (matrix) vector into a numpy vector with [.flatten()](https://docs.scipy.org/doc/numpy/reference/generated/numpy.ndarray.flatten.html).</p>"
   ]
  },
  {
   "cell_type": "code",
   "execution_count": 7,
   "metadata": {
    "collapsed": false
   },
   "outputs": [
    {
     "name": "stdout",
     "output_type": "stream",
     "text": [
      "The sum of a column vector and numpy vector:\n",
      "[[ 6  7  8]\n",
      " [ 7  8  9]\n",
      " [ 8  9 10]]\n",
      "The expected result of summing two numpy vectors: [ 6  8 10]\n"
     ]
    }
   ],
   "source": [
    "#We add v1 and v2 but the output is not as expected\n",
    "v4=v2+v1\n",
    "print('The sum of a column vector and numpy vector:\\n{}'.format(v4))\n",
    "v5 = v2.flatten() + v1\n",
    "print('The expected result of summing two numpy vectors: {}'.format(v5))"
   ]
  },
  {
   "cell_type": "markdown",
   "metadata": {},
   "source": [
    "<h3> Attributes of Numpy Arrays </h3>\n",
    "\n",
    "Three important attributes of NumPy array are [.shape](https://docs.scipy.org/doc/numpy/reference/generated/numpy.ndarray.shape.html), [.ndim](https://docs.scipy.org/doc/numpy/reference/generated/numpy.ndarray.ndim.html), and [.size](https://docs.scipy.org/doc/numpy/reference/generated/numpy.ndarray.size.html): "
   ]
  },
  {
   "cell_type": "code",
   "execution_count": 8,
   "metadata": {
    "collapsed": false
   },
   "outputs": [
    {
     "name": "stdout",
     "output_type": "stream",
     "text": [
      "The shape of X: (2, 3)\n",
      "The dimension of X: 2\n",
      "The size of X: 6\n"
     ]
    }
   ],
   "source": [
    "# the shape of an array\n",
    "print(\"The shape of X: {}\".format(X.shape))\n",
    "\n",
    "# the dimension of an array\n",
    "print(\"The dimension of X: {}\".format(X.ndim))\n",
    "\n",
    "#total number of elements of an array\n",
    "print(\"The size of X: {}\".format(X.size))"
   ]
  },
  {
   "cell_type": "markdown",
   "metadata": {},
   "source": [
    "<h3>Common Arrays</h3>\n",
    "\n",
    "There are also functions for creating common matrices such as [eye()](https://docs.scipy.org/doc/numpy/reference/generated/numpy.eye.html), [zeros()](https://docs.scipy.org/doc/numpy/reference/generated/numpy.zeros.html), and [arange()](https://docs.scipy.org/doc/numpy/reference/generated/numpy.arange.html). Eye() creates an identity matrix, zero() creates a matrix of all zeros, and arange() creates a vector of equally spaced values."
   ]
  },
  {
   "cell_type": "code",
   "execution_count": 9,
   "metadata": {
    "collapsed": false
   },
   "outputs": [
    {
     "name": "stdout",
     "output_type": "stream",
     "text": [
      "Identity matrix of length 3:\n",
      " [[ 1.  0.  0.]\n",
      " [ 0.  1.  0.]\n",
      " [ 0.  0.  1.]]\n",
      "Zero matrix of shape 2 by 3:\n",
      " [[ 0.  0.  0.]\n",
      " [ 0.  0.  0.]]\n",
      "Vector incrementing by 2 each element:\n",
      " [1 3 5 7 9]\n"
     ]
    }
   ],
   "source": [
    "print('Identity matrix of length 3:\\n {}'.format(np.eye(3)))\n",
    "print('Zero matrix of shape 2 by 3:\\n {}'.format(np.zeros([2,3])))\n",
    "print('Vector incrementing by 2 each element:\\n {}'.format(np.arange(1,11,2)))"
   ]
  },
  {
   "cell_type": "markdown",
   "metadata": {},
   "source": [
    "<h2>Matrix Operations</h2>\n",
    "<p>In this section we will cover matrix functions that you will find useful in future projects. In many instances rather than writing functions from scratch there will be preexisting numpy functions which are faster and will save you time.</p> "
   ]
  },
  {
   "cell_type": "code",
   "execution_count": 19,
   "metadata": {
    "collapsed": false
   },
   "outputs": [],
   "source": [
    "# Create some matrices\n",
    "X = np.array([[1,2], [3,4]])\n",
    "Y = np.array([[5,6], [7,8]])\n",
    "A = np.array([[1,2,3,4], [7,8,9,10]])\n",
    "B = np.array([[4,5,6,7], [1,2,3,4]])"
   ]
  },
  {
   "cell_type": "markdown",
   "metadata": {},
   "source": [
    "To perform matrix multiplication use [np.dot()](https://docs.scipy.org/doc/numpy/reference/generated/numpy.dot.html) or the @ symbol. Using the traditional Python multiplication will multiply the values of the matrix element-wise."
   ]
  },
  {
   "cell_type": "code",
   "execution_count": 20,
   "metadata": {
    "collapsed": false
   },
   "outputs": [
    {
     "name": "stdout",
     "output_type": "stream",
     "text": [
      "X: \n",
      "[[1 2]\n",
      " [3 4]]\n",
      "Y: \n",
      "[[5 6]\n",
      " [7 8]]\n",
      "Element-wise multiplication:\n",
      "[[ 5 12]\n",
      " [21 32]]\n",
      "Matrix multiplication:\n",
      "[[19 22]\n",
      " [43 50]]\n",
      "Alternative syntax for matrix multiplication:\n",
      "[[19 22]\n",
      " [43 50]]\n"
     ]
    }
   ],
   "source": [
    "print('X: \\n{}'.format(X))\n",
    "print('Y: \\n{}'.format(Y))\n",
    "print('Element-wise multiplication:\\n{}'.format(X*Y))\n",
    "print('Matrix multiplication:\\n{}'.format(np.dot(X,Y)))\n",
    "print('Alternative syntax for matrix multiplication:\\n{}'.format(X @ Y))"
   ]
  },
  {
   "cell_type": "markdown",
   "metadata": {},
   "source": [
    "To tranpose a matrix use [.transpose()](https://docs.scipy.org/doc/numpy/reference/generated/numpy.transpose.html). An alternative and more concise syntax is .T. "
   ]
  },
  {
   "cell_type": "code",
   "execution_count": 21,
   "metadata": {
    "collapsed": false
   },
   "outputs": [
    {
     "name": "stdout",
     "output_type": "stream",
     "text": [
      "B transposed:\n",
      " [[4 1]\n",
      " [5 2]\n",
      " [6 3]\n",
      " [7 4]]\n",
      "Alternative syntax for transpose:\n",
      " [[4 1]\n",
      " [5 2]\n",
      " [6 3]\n",
      " [7 4]]\n"
     ]
    }
   ],
   "source": [
    "print('B transposed:\\n', B.transpose())\n",
    "print('Alternative syntax for transpose:\\n', B.T)"
   ]
  },
  {
   "cell_type": "markdown",
   "metadata": {},
   "source": [
    "### Exercise 1"
   ]
  },
  {
   "cell_type": "markdown",
   "metadata": {},
   "source": [
    "<p>Use NumPy to calculate $AB^T-Y$. The output should be: $[[ 55,  24],\n",
    "       [185,  82]]$</p>"
   ]
  },
  {
   "cell_type": "code",
   "execution_count": 22,
   "metadata": {
    "collapsed": false
   },
   "outputs": [],
   "source": [
    "###INSERT CODE HERE###"
   ]
  },
  {
   "cell_type": "markdown",
   "metadata": {},
   "source": [
    "<h3>Other matrix operations </h3>\n",
    "\n",
    "Other useful functions to use in your projects are [np.amax()](https://docs.scipy.org/doc/numpy/reference/generated/numpy.amax.html#numpy.amax), [np.amin()](https://docs.scipy.org/doc/numpy/reference/generated/numpy.amin.html), [np.argmax()](https://docs.scipy.org/doc/numpy/reference/generated/numpy.argmax.html), and [np.argmin()](https://docs.scipy.org/doc/numpy/reference/generated/numpy.argmin.html). Note that with all of these functions we can specify the axis along which we want to perform the operation. If no axis is specified the above functions will perform the operation across all dimensions."
   ]
  },
  {
   "cell_type": "code",
   "execution_count": 28,
   "metadata": {
    "collapsed": false
   },
   "outputs": [
    {
     "name": "stdout",
     "output_type": "stream",
     "text": [
      "X:\n",
      "[[1 2]\n",
      " [3 4]]\n",
      "Largest element in X: 4\n",
      "Largest elements along the first axis: [3 4]\n",
      "Smallest element in X: 1\n",
      "Smallest elements along the second axis: [1 3]\n"
     ]
    }
   ],
   "source": [
    "print('X:\\n{}'.format(X))\n",
    "\n",
    "#Using amax and amin\n",
    "print('Largest element in X: {}'.format(np.amax(X)))\n",
    "print('Largest elements along the first axis: {}'.format(np.amax(X, axis = 0)))\n",
    "print('Smallest element in X: {}'.format(np.amin(X)))\n",
    "print('Smallest elements along the second axis: {}'.format(np.amin(X, axis = 1)))"
   ]
  },
  {
   "cell_type": "code",
   "execution_count": 27,
   "metadata": {
    "collapsed": false
   },
   "outputs": [
    {
     "name": "stdout",
     "output_type": "stream",
     "text": [
      "Index of the smallest element in X: 0\n",
      "Indices of the largest elements along the first axis: [0 0]\n"
     ]
    }
   ],
   "source": [
    "#Using argmax and argmin\n",
    "print('Index of the smallest element in X: {}'.format(np.argmin(X)))\n",
    "print('Indices of the largest elements along the first axis: {}'.format(np.argmin(X, axis = 0)))"
   ]
  },
  {
   "cell_type": "markdown",
   "metadata": {},
   "source": [
    "Another function you will find helpful is [np.sum()](https://docs.scipy.org/doc/numpy/reference/generated/numpy.sum.html). Like with np.amax, np.amin, etc. we can specify the axis along which to sum. "
   ]
  },
  {
   "cell_type": "code",
   "execution_count": 25,
   "metadata": {
    "collapsed": false
   },
   "outputs": [
    {
     "name": "stdout",
     "output_type": "stream",
     "text": [
      "Sum of all elements in X: 10\n",
      "Sum of elements along the first axis: [4 6]\n"
     ]
    }
   ],
   "source": [
    "print('Sum of all elements in X: {}'.format(np.sum(X)))\n",
    "print('Sum of elements along the first axis: {}'.format(np.sum(X, axis = 0)))"
   ]
  },
  {
   "cell_type": "markdown",
   "metadata": {},
   "source": [
    "[Vstack](https://docs.scipy.org/doc/numpy/reference/generated/numpy.vstack.html) and [hstack](https://docs.scipy.org/doc/numpy/reference/generated/numpy.hstack.html) are useful for adding columns or rows to existing matrices."
   ]
  },
  {
   "cell_type": "code",
   "execution_count": 26,
   "metadata": {
    "collapsed": false
   },
   "outputs": [
    {
     "name": "stdout",
     "output_type": "stream",
     "text": [
      "A: \n",
      "[[ 1  2  3  4]\n",
      " [ 7  8  9 10]]\n",
      "B: \n",
      "[[4 5 6 7]\n",
      " [1 2 3 4]]\n",
      "Vertical stacking concatenates vectors along the first axis:\n",
      "[[ 1  2  3  4]\n",
      " [ 7  8  9 10]\n",
      " [ 4  5  6  7]\n",
      " [ 1  2  3  4]]\n",
      "Horizontal stacking concatenates vectors along the second axis:\n",
      "[[ 1  2  3  4  4  5  6  7]\n",
      " [ 7  8  9 10  1  2  3  4]]\n"
     ]
    }
   ],
   "source": [
    "print('A: \\n{}'.format(A))\n",
    "print('B: \\n{}'.format(B))\n",
    "\n",
    "print('Vertical stacking concatenates vectors along the first axis:\\n{}'.format(np.vstack((A,B))))\n",
    "print('Horizontal stacking concatenates vectors along the second axis:\\n{}'.format(np.hstack((A,B))))"
   ]
  },
  {
   "cell_type": "markdown",
   "metadata": {},
   "source": [
    "### Exercise 2"
   ]
  },
  {
   "cell_type": "markdown",
   "metadata": {},
   "source": [
    "<p> Find the maximum elements in A along the first axis (axis = 0) and add it to the sum of elements in B along the first axis. Your output should be:</p>\n",
    "**array([12, 15, 18, 21])** </p>"
   ]
  },
  {
   "cell_type": "code",
   "execution_count": null,
   "metadata": {
    "collapsed": true
   },
   "outputs": [],
   "source": [
    "###INSERT CODE HERE###"
   ]
  },
  {
   "cell_type": "markdown",
   "metadata": {},
   "source": [
    "<h3>Element-wise Matrix Operations</h3>\n",
    "\n",
    "There are many operations that you might want to perform such as taking the square root or exponent on each element of a numpy array. Some examples of these functions are [np.exp()](https://docs.scipy.org/doc/numpy/reference/generated/numpy.exp.html), [np.sqrt()](https://docs.scipy.org/doc/numpy/reference/generated/numpy.sqrt.html), and [np.square()](https://docs.scipy.org/doc/numpy/reference/generated/numpy.square.html). There are many more numpy functions that will perform element-wise operations on numpy arrays so make sure to look them up in the official documentation."
   ]
  },
  {
   "cell_type": "code",
   "execution_count": 108,
   "metadata": {
    "collapsed": false
   },
   "outputs": [
    {
     "name": "stdout",
     "output_type": "stream",
     "text": [
      "X: [1 2 3 4 5]\n",
      "The exponential applied element-wise to X: \n",
      "[   2.71828183    7.3890561    20.08553692   54.59815003  148.4131591 ]\n",
      "The square root applied element-wise to X: \n",
      "[ 1.          1.41421356  1.73205081  2.          2.23606798]\n",
      "The square applied element-wise to X: \n",
      "[ 1  4  9 16 25]\n"
     ]
    }
   ],
   "source": [
    "X = np.arange(1,6,1)\n",
    "print('X: {}'.format(X))\n",
    "print('The exponential applied element-wise to X: \\n{}'.format(np.exp(X)))\n",
    "print('The square root applied element-wise to X: \\n{}'.format(np.sqrt(X)))\n",
    "print('The square applied element-wise to X: \\n{}'.format(np.square(X)))"
   ]
  },
  {
   "cell_type": "markdown",
   "metadata": {},
   "source": [
    "<h2>Indexing and Slicing</h2>\n",
    "<p>NumPy's array can indexed and sliced, just like python's list. For single dimension array operations: </p>"
   ]
  },
  {
   "cell_type": "code",
   "execution_count": 29,
   "metadata": {
    "collapsed": false
   },
   "outputs": [
    {
     "name": "stdout",
     "output_type": "stream",
     "text": [
      "x1: [0 1 2 3 4]\n",
      "Indexing a single element: 3\n",
      "Slicing: [1 2]\n",
      "Slicing last two numbers: [3 4]\n"
     ]
    }
   ],
   "source": [
    "x1 = np.arange(5)\n",
    "\n",
    "print(\"x1: {}\".format(x1))\n",
    "print(\"Indexing a single element: {}\".format(x1[3]))\n",
    "print(\"Slicing: {}\".format(x1[1:3]))  \n",
    "print(\"Slicing last two numbers: {}\".format(x1[-2:]))\n"
   ]
  },
  {
   "cell_type": "markdown",
   "metadata": {},
   "source": [
    "<h3> Multidimensional arrays:</h3>"
   ]
  },
  {
   "cell_type": "code",
   "execution_count": 30,
   "metadata": {
    "collapsed": false
   },
   "outputs": [
    {
     "name": "stdout",
     "output_type": "stream",
     "text": [
      "x2:\n",
      "[[1 2 3]\n",
      " [4 5 6]\n",
      " [7 8 9]]\n",
      "Full slice:\n",
      "[[1 2 3]\n",
      " [4 5 6]\n",
      " [7 8 9]]\n",
      "Indexing an element at the first row, third column: 3\n",
      "Slicing on both axes:\n",
      "[[4 5]\n",
      " [7 8]]\n",
      "Indexing by row:[1 2 3]\n",
      "Indexing by column: [1 4 7]\n",
      "Iterating through each row in a matrix:\n",
      "[1 2 3]\n",
      "[4 5 6]\n",
      "[7 8 9]\n"
     ]
    }
   ],
   "source": [
    "x2 = np.array([[1,2,3], [4,5,6], [7,8,9]])\n",
    "print(\"x2:\\n{}\".format(x2))\n",
    "print(\"Full slice:\\n{}\".format(x2[::])) \n",
    "print(\"Indexing an element at the first row, third column: {}\".format(x2[0,2]))\n",
    "print(\"Slicing on both axes:\\n{}\".format(x2[1:,:2]))\n",
    "print(\"Indexing by row:{}\".format(x2[0])) # Selecting the first row \n",
    "print(\"Indexing by column: {}\".format(x2[:,0])) # Selecting the first column\n",
    "\n",
    "print(\"Iterating through each row in a matrix:\")\n",
    "for row in x2:\n",
    "    print(row)"
   ]
  },
  {
   "cell_type": "markdown",
   "metadata": {},
   "source": [
    "### Exercise 3"
   ]
  },
  {
   "cell_type": "markdown",
   "metadata": {},
   "source": [
    "<p>Return the first and second row of A then the second and third column of A. </p>"
   ]
  },
  {
   "cell_type": "code",
   "execution_count": null,
   "metadata": {
    "collapsed": true
   },
   "outputs": [],
   "source": [
    "###INSERT CODE HERE###"
   ]
  }
 ],
 "metadata": {
  "anaconda-cloud": {},
  "kernelspec": {
   "display_name": "Python [anaconda]",
   "language": "python",
   "name": "Python [anaconda]"
  },
  "language_info": {
   "codemirror_mode": {
    "name": "ipython",
    "version": 3
   },
   "file_extension": ".py",
   "mimetype": "text/x-python",
   "name": "python",
   "nbconvert_exporter": "python",
   "pygments_lexer": "ipython3",
   "version": "3.5.2"
  }
 },
 "nbformat": 4,
 "nbformat_minor": 1
}
